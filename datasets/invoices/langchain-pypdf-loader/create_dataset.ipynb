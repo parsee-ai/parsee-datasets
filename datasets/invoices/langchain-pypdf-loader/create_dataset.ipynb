{
 "cells": [
  {
   "cell_type": "markdown",
   "id": "8c3d9ed1-609a-4871-9c51-efa48f357c94",
   "metadata": {},
   "source": [
    "# Create Dataset\n",
    "Code to create the dataset (requires parsee-core install)"
   ]
  },
  {
   "cell_type": "markdown",
   "id": "7f22fa5c-3935-4f13-8330-8321ad792504",
   "metadata": {},
   "source": [
    "You have to set the Parsee Cloud API key and the output directory here"
   ]
  },
  {
   "cell_type": "code",
   "execution_count": null,
   "id": "0fb35680-f261-4243-9585-d40e124344e1",
   "metadata": {},
   "outputs": [],
   "source": [
    "parsee_api_key = \"API_KEY\"\n",
    "output_directory = \"PATH_TO_OUTPUT_DIR\""
   ]
  },
  {
   "cell_type": "markdown",
   "id": "8dfaca4a-5b8e-4d0e-90e8-9d481b627a58",
   "metadata": {},
   "source": [
    "We are setting a token limit of 4k token to all prompts, this should not affect the prompts for this dataset, but if you are using larger files, increasing this is probably better (depends on the exact use case)."
   ]
  },
  {
   "cell_type": "code",
   "execution_count": 1,
   "id": "ccc7a805-71a1-45ba-beba-6481eb57685c",
   "metadata": {},
   "outputs": [],
   "source": [
    "token_limit_prompts = 4000"
   ]
  },
  {
   "cell_type": "markdown",
   "id": "71607865-beda-4ca5-bfdc-0e17f11307a8",
   "metadata": {},
   "source": [
    "For this dataset creation, you need to save all the invoices (PDF files) locally in a folder, set the path to that folder here:"
   ]
  },
  {
   "cell_type": "code",
   "execution_count": null,
   "id": "5a9b1ffd-6ec5-4d74-b434-c333f44b520b",
   "metadata": {},
   "outputs": [],
   "source": [
    "data_dir = \"PATH_TO_PDF_FILES\""
   ]
  },
  {
   "cell_type": "markdown",
   "id": "c90c0991-859a-4c92-b2a6-1cd49d8508d1",
   "metadata": {},
   "source": [
    "code to create datasets:"
   ]
  },
  {
   "cell_type": "code",
   "execution_count": null,
   "id": "6587d7ae-21a3-48c7-b26e-7fd917a9d43b",
   "metadata": {},
   "outputs": [],
   "source": [
    "import os\n",
    "\n",
    "from parsee.cloud.api import ParseeCloud\n",
    "from parsee.datasets.writers.disk_writer import CsvDiskWriter\n",
    "from parsee.datasets.main import create_dataset_rows\n",
    "from parsee.converters.langchain import langchain_loader_to_sdf\n",
    "from parsee.utils.enums import DocumentType\n",
    "from parsee.utils.helper import get_source_identifier\n",
    "\n",
    "from langchain.document_loaders.pdf import PyPDFLoader\n",
    "\n",
    "cloud = ParseeCloud(parsee_api_key)\n",
    "template = cloud.get_template(\"65ef0d5f9012fa0ca62df5d0\") # this is the basic invoices template\n",
    "\n",
    "documents = [x for x in os.listdir(data_dir) if x.endswith(\".pdf\")]\n",
    "writer = CsvDiskWriter(output_directory)\n",
    "\n",
    "\n",
    "for doc_path in documents:\n",
    "    full_path = os.path.join(base_dir, doc_path)\n",
    "    parsee_document = langchain_loader_to_sdf(PyPDFLoader(full_path), DocumentType.PDF, get_source_identifier(full_path))\n",
    "    # get correct values from parsee cloud\n",
    "    correct_values = cloud.get_output(parsee_document.source_identifier, template.id)\n",
    "    dataset_rows = create_dataset_rows(template, parsee_document, [x.to_assigned_answer() for x in correct_values], max_tokens_prompt=token_limit_prompts)\n",
    "\n",
    "    # write the rows at the target destination as CSV\n",
    "    writer.write_rows(dataset_rows, \"questions_invoice_langchain\")"
   ]
  },
  {
   "cell_type": "markdown",
   "id": "133a5b74-31f5-48f2-be8f-3fb2de3464d6",
   "metadata": {},
   "source": [
    "This writes the rows in a CSV file locally."
   ]
  }
 ],
 "metadata": {
  "kernelspec": {
   "display_name": "Python 3 (ipykernel)",
   "language": "python",
   "name": "python3"
  },
  "language_info": {
   "codemirror_mode": {
    "name": "ipython",
    "version": 3
   },
   "file_extension": ".py",
   "mimetype": "text/x-python",
   "name": "python",
   "nbconvert_exporter": "python",
   "pygments_lexer": "ipython3",
   "version": "3.9.16"
  }
 },
 "nbformat": 4,
 "nbformat_minor": 5
}
