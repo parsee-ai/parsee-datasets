{
 "cells": [
  {
   "cell_type": "markdown",
   "id": "3ac68797-9ccb-47d6-82ca-2621c41ca8a6",
   "metadata": {},
   "source": [
    "# Create Dataset"
   ]
  },
  {
   "cell_type": "markdown",
   "id": "03e2c4d4-14a8-48cf-804d-f683e7d3083e",
   "metadata": {},
   "source": [
    "Code to create the dataset (requires parsee-core install)"
   ]
  },
  {
   "cell_type": "markdown",
   "id": "5f0e3703-1e9a-46f9-9296-122c1d90e7cd",
   "metadata": {},
   "source": [
    "You have to set the Parsee Cloud API key and the output directory here"
   ]
  },
  {
   "cell_type": "code",
   "execution_count": 4,
   "id": "e78714d9-79a6-4618-a336-dd7509caee00",
   "metadata": {},
   "outputs": [],
   "source": [
    "parsee_api_key = \"API_KEY\"\n",
    "output_directory = \"PATH_TO_OUTPUT_DIR\""
   ]
  },
  {
   "cell_type": "markdown",
   "id": "7581518b-d147-40aa-a57b-56d18fba35fe",
   "metadata": {},
   "source": [
    "We are setting a token limit of 8k tokens to all prompts, this should not affect the prompts for this dataset, but if you are using larger files, increasing this is probably better (depends on the exact use case)."
   ]
  },
  {
   "cell_type": "code",
   "execution_count": 5,
   "id": "609822f6-78bc-49f5-81f0-c7a020735720",
   "metadata": {},
   "outputs": [],
   "source": [
    "token_limit_prompts = 8000"
   ]
  },
  {
   "cell_type": "markdown",
   "id": "49952ada-dd73-4523-bb2d-7c03b8e5c3f3",
   "metadata": {},
   "source": [
    "For the dataset creation, we will load the raw PDF files (included in this repo):"
   ]
  },
  {
   "cell_type": "code",
   "execution_count": 6,
   "id": "03f4fbd7-e247-40b5-a725-bcdbc63bafb2",
   "metadata": {},
   "outputs": [],
   "source": [
    "data_dir = \"../raw_data\""
   ]
  },
  {
   "cell_type": "markdown",
   "id": "e9bbe730-6c79-43e7-ab75-ca45af464bb4",
   "metadata": {},
   "source": [
    "code to create dataset:"
   ]
  },
  {
   "cell_type": "code",
   "execution_count": null,
   "id": "ddbe80ee-47ee-41a4-be49-f7b63fa025b3",
   "metadata": {},
   "outputs": [],
   "source": [
    "import os\n",
    "\n",
    "from parsee.cloud.api import ParseeCloud\n",
    "from parsee.datasets.writers.disk_writer import CsvDiskWriter\n",
    "from parsee.datasets.main import create_dataset_rows\n",
    "from parsee.converters.langchain import langchain_loader_to_sdf\n",
    "from parsee.utils.enums import DocumentType\n",
    "from parsee.utils.helper import get_source_identifier\n",
    "\n",
    "from langchain.document_loaders.pdf import PyPDFLoader\n",
    "\n",
    "cloud = ParseeCloud(parsee_api_key)\n",
    "template = cloud.get_template(\"65f95cc2e34036446ee85a00\") # this is the revenues template\n",
    "\n",
    "documents = [x for x in os.listdir(data_dir) if x.endswith(\".pdf\")]\n",
    "writer = CsvDiskWriter(output_directory)\n",
    "\n",
    "\n",
    "for doc_path in documents:\n",
    "    full_path = os.path.join(data_dir, doc_path)\n",
    "    parsee_document = langchain_loader_to_sdf(PyPDFLoader(full_path), DocumentType.PDF, get_source_identifier(full_path))\n",
    "    # get correct values from parsee cloud\n",
    "    correct_values = cloud.get_output(parsee_document.source_identifier, template.id)\n",
    "    dataset_rows = create_dataset_rows(template, parsee_document, [x.to_assigned_answer() for x in correct_values], max_tokens_prompt=token_limit_prompts)\n",
    "\n",
    "    # write the rows at the target destination as CSV\n",
    "    writer.write_rows(dataset_rows, \"questions_revenues_langchain\")"
   ]
  }
 ],
 "metadata": {
  "kernelspec": {
   "display_name": "Python 3 (ipykernel)",
   "language": "python",
   "name": "python3"
  },
  "language_info": {
   "codemirror_mode": {
    "name": "ipython",
    "version": 3
   },
   "file_extension": ".py",
   "mimetype": "text/x-python",
   "name": "python",
   "nbconvert_exporter": "python",
   "pygments_lexer": "ipython3",
   "version": "3.9.16"
  }
 },
 "nbformat": 4,
 "nbformat_minor": 5
}
